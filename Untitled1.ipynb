{
 "cells": [
  {
   "cell_type": "markdown",
   "id": "61b30fb2",
   "metadata": {},
   "source": [
    "Go to this given URL and solve the following questions\n",
    "URL: https://www.youtube.com/@PW-Foundation/videos"
   ]
  },
  {
   "cell_type": "code",
   "execution_count": 38,
   "id": "09237b01",
   "metadata": {},
   "outputs": [],
   "source": [
    "import requests\n",
    "import re\n",
    "import csv\n",
    "\n",
    "# Set the query string\n",
    "query = \"PW-Foundation\"\n",
    "\n",
    "# Define headers to simulate a browser user agent\n",
    "headers = {\"User-Agent\": \"Mozilla/5.0 (Windows NT 10.0; Win64; x64) AppleWebKit/537.36 (KHTML, like Gecko) Chrome/58.0.3029.110 Safari/537.36\"}\n",
    "\n",
    "# Fetch the search results page\n",
    "response = requests.get(f\"https://www.youtube.com/@{query}/videos\", headers=headers)\n",
    "res = response.text\n",
    "\n",
    "# Extract video IDs, thumbnail URLs, titles, views, and published times using regex\n",
    "video_id = re.findall('\"videoRenderer\":{\"videoId\":\".*?\"', res)\n",
    "thumbnail = re.findall('\"thumbnail\":{\"thumbnails\":\\[{\"url\":\".*?\"', res)\n",
    "title = re.findall('\"title\":{\"runs\":\\[{\"text\":\".*?\"', res)\n",
    "view_time = re.findall('\"shortViewCountText\":{\"accessibility\":{\"accessibilityData\":{\"label\":\".*?\"', res)\n",
    "published_time = re.findall('\"publishedTimeText\":{\"simpleText\":\".*?\"', res)"
   ]
  },
  {
   "cell_type": "markdown",
   "id": "1e86951a",
   "metadata": {},
   "source": [
    "Q1. Write a python program to extract the video URL of the first five videos."
   ]
  },
  {
   "cell_type": "code",
   "execution_count": 48,
   "id": "5e1a165a",
   "metadata": {},
   "outputs": [],
   "source": [
    "video_id_list = []\n",
    "\n",
    "for i in range(5):\n",
    "    temp = []\n",
    "    temp.append(i+1)\n",
    "    temp.append('https://www.youtube.com/watch?v=' + video_id[i].split('\"')[-2])\n",
    "    video_id_list.append(temp)"
   ]
  },
  {
   "cell_type": "code",
   "execution_count": 49,
   "id": "4dcd716d",
   "metadata": {},
   "outputs": [
    {
     "data": {
      "text/plain": [
       "[[1, 'https://www.youtube.com/watch?v=hzwEXoQDNCs'],\n",
       " [2, 'https://www.youtube.com/watch?v=0s6hAsFGxYE'],\n",
       " [3, 'https://www.youtube.com/watch?v=YXRyMc_noiE'],\n",
       " [4, 'https://www.youtube.com/watch?v=PI1obes98Zc'],\n",
       " [5, 'https://www.youtube.com/watch?v=16fUsD0M1-I']]"
      ]
     },
     "execution_count": 49,
     "metadata": {},
     "output_type": "execute_result"
    }
   ],
   "source": [
    "video_id_list"
   ]
  },
  {
   "cell_type": "markdown",
   "id": "77d809c5",
   "metadata": {},
   "source": [
    "Q2. Write a python program to extract the URL of the video thumbnails of the first five videos."
   ]
  },
  {
   "cell_type": "code",
   "execution_count": 50,
   "id": "be754c15",
   "metadata": {},
   "outputs": [],
   "source": [
    "thumbnail_list = []\n",
    "for i in range(5):\n",
    "    temp = []\n",
    "    temp.append(i+1)\n",
    "    temp.append(thumbnail[i].split('\"')[-2])\n",
    "    thumbnail_list.append(temp)"
   ]
  },
  {
   "cell_type": "code",
   "execution_count": 51,
   "id": "9f6301db",
   "metadata": {},
   "outputs": [
    {
     "data": {
      "text/plain": [
       "[[1,\n",
       "  'https://i.ytimg.com/vi/hzwEXoQDNCs/hqdefault.jpg?sqp=-oaymwEbCKgBEF5IVfKriqkDDggBFQAAiEIYAXABwAEG\\\\u0026rs=AOn4CLBJofmL4UWclQV7TlE_Col4VT4dXg'],\n",
       " [2,\n",
       "  'https://i.ytimg.com/vi/0s6hAsFGxYE/hqdefault.jpg?sqp=-oaymwE1CKgBEF5IVfKriqkDKAgBFQAAiEIYAXABwAEG8AEB-AH-CYAC0AWKAgwIABABGDkgYyhyMA8=\\\\u0026rs=AOn4CLDfkPskt7gCFw5zM6KOthSSdqo68Q'],\n",
       " [3,\n",
       "  'https://i.ytimg.com/vi/YXRyMc_noiE/hqdefault.jpg?sqp=-oaymwEbCKgBEF5IVfKriqkDDggBFQAAiEIYAXABwAEG\\\\u0026rs=AOn4CLDWnSMYAshSCNo_s6HlxiYSX_Kk5w'],\n",
       " [4,\n",
       "  'https://i.ytimg.com/vi/PI1obes98Zc/hqdefault.jpg?sqp=-oaymwEbCKgBEF5IVfKriqkDDggBFQAAiEIYAXABwAEG\\\\u0026rs=AOn4CLBH8oZUQr5laKUNyVvbdNNKKqRgLw'],\n",
       " [5,\n",
       "  'https://i.ytimg.com/vi/16fUsD0M1-I/hqdefault.jpg?sqp=-oaymwEbCKgBEF5IVfKriqkDDggBFQAAiEIYAXABwAEG\\\\u0026rs=AOn4CLC7cEvbyHJM0BZwLyhZ9YPAL6N_9g']]"
      ]
     },
     "execution_count": 51,
     "metadata": {},
     "output_type": "execute_result"
    }
   ],
   "source": [
    "thumbnail_list"
   ]
  },
  {
   "cell_type": "markdown",
   "id": "e61b16fb",
   "metadata": {},
   "source": [
    "Q3. Write a python program to extract the title of the first five videos."
   ]
  },
  {
   "cell_type": "code",
   "execution_count": 52,
   "id": "beb35c94",
   "metadata": {},
   "outputs": [],
   "source": [
    "title_list = []\n",
    "for i in range(5):\n",
    "    temp = []\n",
    "    temp.append(i+1)\n",
    "    temp.append(titles[i].split('\"')[-2])\n",
    "    title_list.append(temp)"
   ]
  },
  {
   "cell_type": "code",
   "execution_count": 53,
   "id": "beb6cd1d",
   "metadata": {},
   "outputs": [
    {
     "data": {
      "text/plain": [
       "[[1, 'Aarambh Batch 2024 | For CBSE Class 11th Commerce | Biggest Launch🔥'],\n",
       " [2,\n",
       "  \"India's NO.1 Batch for Class 10th - UDAAN ⚡ Launching Today !! Check Description.\"],\n",
       " [3,\n",
       "  \"India's Biggest Scholarship Test for Classes 8th to 12th !! 🔥🔥 || PW SAT 2023 ⚡💥\"],\n",
       " [4, 'How to score 95%+ in class 10th? Complete year Powerful Strategy!!'],\n",
       " [5,\n",
       "  'Last 4 Days Left For SST Exam || How To Manage to Score 80/80 in Boards || Class-10th']]"
      ]
     },
     "execution_count": 53,
     "metadata": {},
     "output_type": "execute_result"
    }
   ],
   "source": [
    "title_list"
   ]
  },
  {
   "cell_type": "markdown",
   "id": "a578a971",
   "metadata": {},
   "source": [
    "Q4. Write a python program to extract the number of views of the first five videos."
   ]
  },
  {
   "cell_type": "code",
   "execution_count": 54,
   "id": "7164c5e3",
   "metadata": {},
   "outputs": [],
   "source": [
    "view_time_list = []\n",
    "for i in range(5):\n",
    "    temp = []\n",
    "    temp.append(i+1)\n",
    "    temp.append(view_time[i].split('\"')[-2])\n",
    "    view_time_list.append(temp)"
   ]
  },
  {
   "cell_type": "code",
   "execution_count": 55,
   "id": "90c4b91e",
   "metadata": {},
   "outputs": [
    {
     "data": {
      "text/plain": [
       "[[1, '8.9K views'],\n",
       " [2, '60K views'],\n",
       " [3, '73K views'],\n",
       " [4, '268K views'],\n",
       " [5, '69K views']]"
      ]
     },
     "execution_count": 55,
     "metadata": {},
     "output_type": "execute_result"
    }
   ],
   "source": [
    "view_time_list"
   ]
  },
  {
   "cell_type": "markdown",
   "id": "a5e279d2",
   "metadata": {},
   "source": [
    "Q5. Write a python program to extract the time of posting of video for the first five videos."
   ]
  },
  {
   "cell_type": "code",
   "execution_count": 56,
   "id": "13da73cb",
   "metadata": {},
   "outputs": [],
   "source": [
    "published_time_list = []\n",
    "view_time_list = []\n",
    "for i in range(5):\n",
    "    temp = []\n",
    "    temp.append(i+1)\n",
    "    temp.append(published_time[i].split('\"')[-2])\n",
    "    published_time_list.append(temp)"
   ]
  },
  {
   "cell_type": "code",
   "execution_count": 57,
   "id": "07fccb78",
   "metadata": {},
   "outputs": [
    {
     "data": {
      "text/plain": [
       "[[1, '1 hour ago'],\n",
       " [2, '4 days ago'],\n",
       " [3, '5 days ago'],\n",
       " [4, '2 weeks ago'],\n",
       " [5, '2 weeks ago']]"
      ]
     },
     "execution_count": 57,
     "metadata": {},
     "output_type": "execute_result"
    }
   ],
   "source": [
    "published_time_list"
   ]
  },
  {
   "cell_type": "markdown",
   "id": "446f38f2",
   "metadata": {},
   "source": [
    "Note: Save all the data scraped in the above questions in a CSV file."
   ]
  },
  {
   "cell_type": "code",
   "execution_count": 58,
   "id": "6da37a76",
   "metadata": {},
   "outputs": [],
   "source": [
    "# Write the data to a CSV file\n",
    "complete_list= [video_id_list, thumbnail_list, title_list, view_time_list, published_time_list]\n",
    "file_name = f\"{query}.csv\"\n",
    "with open(file_name, 'w', newline='', encoding='utf-8') as csvfile:\n",
    "    csvwriter = csv.writer(csvfile)\n",
    "    for row in complete_list:\n",
    "        csvwriter.writerow(row)"
   ]
  },
  {
   "cell_type": "markdown",
   "id": "fcd96d47",
   "metadata": {},
   "source": [
    "Create a simple UI with all functionalities mentioned above and deploy it in AWS.\n",
    "Note: Create your assignment in Jupyter notebook and upload it to GitHub & share that uploaded assignment file link through your dashboard. Make sure the repository is public. Submit your deployment link as well."
   ]
  },
  {
   "cell_type": "markdown",
   "id": "5ba74df5",
   "metadata": {},
   "source": [
    "Deployment Link: https://ytscrappingpw.azurewebsites.net"
   ]
  },
  {
   "cell_type": "code",
   "execution_count": null,
   "id": "ab753165",
   "metadata": {},
   "outputs": [],
   "source": []
  }
 ],
 "metadata": {
  "kernelspec": {
   "display_name": "Python 3 (ipykernel)",
   "language": "python",
   "name": "python3"
  },
  "language_info": {
   "codemirror_mode": {
    "name": "ipython",
    "version": 3
   },
   "file_extension": ".py",
   "mimetype": "text/x-python",
   "name": "python",
   "nbconvert_exporter": "python",
   "pygments_lexer": "ipython3",
   "version": "3.10.6"
  }
 },
 "nbformat": 4,
 "nbformat_minor": 5
}
